{
 "cells": [
  {
   "attachments": {},
   "cell_type": "markdown",
   "metadata": {},
   "source": [
    "<h5 style='text-align: right;'> Universidad de los Andes  &emsp; <br>  Profesor: Juan Fernando Pérez  &emsp;<br> Instructora: Natalia Pacheco  &emsp; <br> Primer semestre de 2023 &emsp; </h5>\n",
    "<h4 style=\"text-align:center;\">TALLER EN CLASE  <br> Redes Bayesianas </h4> \n"
   ]
  },
  {
   "attachments": {},
   "cell_type": "markdown",
   "metadata": {},
   "source": [
    "# Problema de Monty Hall\n",
    "\n",
    "En un programa concurso Ud puede ganar un carro. Para hacerlo debe seleccionar una de tres puertas. Detrás de una de ellas está el carro y si la selecciona se gana el carro. Tras su selección de una de las puertas, el animador del programa abrirá otra de las puertas, detrás de la que hay una cabra. Recuerde que el animador sabe qué hay detrás de cada puerta. Tras abrir la otra puerta, el animador le da la posibilidad de cambiar de puerta, ¿Ud se cambia o no de puerta?\n",
    "\n",
    " Para decidir si debe cambiar o no de puerta UD ha decidido modelar este problema como una Red Bayesiana.\n",
    "  \n",
    "  <p align=\"center\"><image src=\"https://github.com/Pacheco-Carvajal/Taller_Redes/blob/main/red1.png\"></p>\n",
    "\n",
    "Donde $U, C $ y $A$ son tres variables aleatorias que representan la puerta seleccionada por Ud, la puerta detrás de la cual está el carro, y la puerta que selecciona el animador, respectivamente. Las tres variables tienen espacio de estados $\\{1,2,3\\}$."
   ]
  },
  {
   "attachments": {},
   "cell_type": "markdown",
   "metadata": {},
   "source": [
    "1. Responda las siguientes preguntas:\n",
    "\n",
    "a). ¿Tiene esta red estructuras en V? Si las tiene, ¿Qué implicaciones tienen en la influencia entre las variables de la red?\n",
    "\n",
    "b). ¿Qué tipo de análisis considera es más relevante en este caso? ¿Causal, evidencial, intercausal? ¿Por qué?\n",
    "\n",
    "c). ¿Qué independencias condicionales captura esta red?\n"
   ]
  },
  {
   "attachments": {},
   "cell_type": "markdown",
   "metadata": {},
   "source": [
    "2. El carro ha sido ubicado al azar detrás de alguna de las puertas, y Ud selecciona una puerta al azar inicialmente. Modele este comportamiento con las distribuciones de probabilidad P(U) y P(C) \n",
    "\n",
    "\\\\begin{array}{cccc}\n",
    "     & \\text{1} & \\text{2} & \\text{3}  \\\\\n",
    "   P(U)=  &  \\left[1/3 \\right. & 1/3 & \\left.1/3 \\right]\n",
    "\\end{array}\n",
    "\n",
    "\n",
    "\\\\begin{array}{cccc}\n",
    "     & \\text{1} & \\text{2} & \\text{3}  \\\\\n",
    "   P(C)=  &  \\left[1/3 \\right. & 1/3 & \\left.1/3 \\right]\n",
    "\\end{array}"
   ]
  },
  {
   "attachments": {},
   "cell_type": "markdown",
   "metadata": {},
   "source": [
    "3. El comportamiento del Animador (la puerta que decide mostrar) depende tanto de su selección como de la puerta donde se encuentra el carro. Modele el comportamiento del Animador con la distribución condicional de probabilidad $P(A|C,U)$ (note que esta representación es estocástica por columnas)"
   ]
  },
  {
   "cell_type": "code",
   "execution_count": null,
   "metadata": {},
   "outputs": [],
   "source": [
    "from tkinter import Image\n",
    "Image(filename='Tabla.jpg',width=600)"
   ]
  },
  {
   "attachments": {},
   "cell_type": "markdown",
   "metadata": {},
   "source": [
    "4. En su editor de python cree un nuevo archivo monty.py e incluya los objetos BayesianNetwork y Tabular CPD"
   ]
  },
  {
   "cell_type": "code",
   "execution_count": null,
   "metadata": {},
   "outputs": [],
   "source": [
    "#objetos BayesianNetwork y TabularCPD\n",
    "from pgmpy.models import BayesianNetwork\n",
    "from pgmpy.factors.discrete import TabularCPD"
   ]
  },
  {
   "attachments": {},
   "cell_type": "markdown",
   "metadata": {},
   "source": [
    "5. Defina ahora la estructura de la red incluyendo los arcos y nodos"
   ]
  },
  {
   "cell_type": "code",
   "execution_count": null,
   "metadata": {},
   "outputs": [],
   "source": [
    "modelo = BayesianNetwork ([(\"C\", \"A\") , (\"U\", \"A\")])"
   ]
  },
  {
   "attachments": {},
   "cell_type": "markdown",
   "metadata": {},
   "source": [
    "6. Defina las CPDs de $C$ y $U$"
   ]
  },
  {
   "cell_type": "code",
   "execution_count": null,
   "metadata": {},
   "outputs": [],
   "source": [
    "#Definir las CPD's de C, U y A\n",
    "cpd_c = TabularCPD(variable=\"C\", variable_card=3, values=[[0.33], [0.33], [0.33]])\n",
    "cpd_u = TabularCPD(variable=\"U\", variable_card=3, values=[[0.33], [0.33], [0.33]])"
   ]
  },
  {
   "attachments": {},
   "cell_type": "markdown",
   "metadata": {},
   "source": [
    "7. Defina la CPD de A"
   ]
  },
  {
   "cell_type": "code",
   "execution_count": null,
   "metadata": {},
   "outputs": [],
   "source": [
    "cpd_a = TabularCPD(\n",
    "    variable=\"A\",\n",
    "    variable_card=3,\n",
    "    values=[\n",
    "        [0, 0, 0, 0, 0.5, 1, 0, 1, 0.5],\n",
    "        [0.5, 0, 1, 0, 0, 0, 1, 0, 0.5],\n",
    "        [0.5, 1, 0, 1, 0.5, 0, 0, 0, 0],\n",
    "    ],\n",
    "    evidence=[\"C\", \"U\"],\n",
    "    evidence_card=[3, 3],\n",
    ")"
   ]
  },
  {
   "attachments": {},
   "cell_type": "markdown",
   "metadata": {},
   "source": [
    "8. Asocie las 3 CPDs a su modelo"
   ]
  },
  {
   "cell_type": "code",
   "execution_count": null,
   "metadata": {},
   "outputs": [],
   "source": [
    "modelo.add_cpds(cpd_c, cpd_u, cpd_a)"
   ]
  },
  {
   "attachments": {},
   "cell_type": "markdown",
   "metadata": {},
   "source": [
    "9. Revise que su modelo este completo"
   ]
  },
  {
   "cell_type": "code",
   "execution_count": null,
   "metadata": {},
   "outputs": [],
   "source": [
    "modelo.check_model()"
   ]
  },
  {
   "cell_type": "markdown",
   "metadata": {},
   "source": [
    "10. Importe la clase VariableElimination del paquete de Inferencia y cree un objeto de esta clase."
   ]
  },
  {
   "cell_type": "code",
   "execution_count": null,
   "metadata": {},
   "outputs": [],
   "source": [
    "from pgmpy.inference import VariableElimination\n",
    "\n",
    "infer = VariableElimination(modelo)"
   ]
  },
  {
   "attachments": {},
   "cell_type": "markdown",
   "metadata": {},
   "source": [
    "11. Suponga que usted selecciona la puerta 1 y el animador la puerta 3. ¿Cuál es la probabilidad de que el carro este detrás de cada una de las puertas?\n",
    "\n",
    "**Nota:** Note que los valores se indexan desde 0, luego la puerta 1 corresponde al elemento 0, la 2 al elemento 1, y la 3 al elemento 2."
   ]
  },
  {
   "cell_type": "code",
   "execution_count": null,
   "metadata": {},
   "outputs": [],
   "source": [
    "posterior_p = infer.query([\"C\"], evidence={\"U\": 0, \"A\": 1})\n",
    "print(posterior_p)"
   ]
  },
  {
   "attachments": {},
   "cell_type": "markdown",
   "metadata": {},
   "source": [
    "12. Interprete los resultados. ¿Es mejor cambiarse de puerta o no? \n",
    "- En este caso, lo mejor es cambiarse de puertas pues aumenta la probabilidad de ganarse el carro, pasa de 1/3 a 2/3.\n",
    "\n",
    "13. Modifique la evidencia para considerar otros casos de selección de puertas, tanto la que Ud selecciona como la que el animador abre ¿Cómo interpreta estos resultados?"
   ]
  },
  {
   "cell_type": "code",
   "execution_count": null,
   "metadata": {},
   "outputs": [],
   "source": [
    "posterior_p2 = infer.query([\"C\"], evidence={\"U\": 1, \"A\": 0})\n",
    "print(posterior_p2)"
   ]
  },
  {
   "attachments": {},
   "cell_type": "markdown",
   "metadata": {},
   "source": [
    "- En este caso, al igual que en el caso anterior lo mejor sería cambiarse de puerta pues aumenta la probabilidad de 1/3 a 2/3 de ganarse el carro si se cambia la selección.\n",
    "\n",
    "14. Compare ahora con el caso en que solo tiene como evidencia la puerta que Ud seleccionó."
   ]
  },
  {
   "cell_type": "code",
   "execution_count": null,
   "metadata": {},
   "outputs": [],
   "source": [
    "posterior_p = infer.query([\"C\"], evidence={\"U\": 0})\n",
    "print(posterior_p)"
   ]
  },
  {
   "attachments": {},
   "cell_type": "markdown",
   "metadata": {},
   "source": [
    "* En este caso al conocer únicamente la elección del participante la probabilidad de que el carro se encuentre detrás de cada una de las puertas es la misma dado que no tenemos información adicional."
   ]
  },
  {
   "attachments": {},
   "cell_type": "markdown",
   "metadata": {},
   "source": [
    "# Caso de aplicación: Confiabilidad\n",
    "\n",
    "En la planeación de actividades de mantenimiento y presupuesto, así como para la definición de estrategias de mitigación del riesgo, es importante la estimación de la confiabilidad o la probabilidad de falla de un sistema. Por ello, se desea estimar el **nivel de confiabilidad** de un equipo durante el próximo mes con base en un conjunto de variables relevantes.\n",
    "\n",
    "Debido a la estructura del problema y al propósito del análisis, se decidió modelar las relaciones entre las variables por medio de una Red Bayesiana.\n",
    "\n",
    "Con tal fin, se identificaron las variables que influyen de manera significativa en la confiabilidad del equipo, se determinaron estados posibles para cada una de ellas y, con base en la experiencia previa y en juicios emitidos por expertos en el manejo de este equipo, se definieron las relaciones entre las variables y las probabilidades condicionales que las modelan apropiadamente.\n",
    "\n",
    "Variables\n",
    "\n",
    "-\t**Historial Anormalidad** : el equipo puede tener o no tener registro de posibles anormalidades de funcionamiento en su hoja de vida. \n",
    "-\t**Condiciones de Uso**: el equipo puede encontrarse en condiciones de uso normales o en sobreuso (condiciones extremas), de acuerdo con su diseño. \n",
    "-\t**Análisis de Fallas**: hace referencia a la valoración de los daños presentados por el equipo previamente. El resultado de dicha valoración puede ser leves o graves.\n",
    "-\t**No. de Fallas Latentes**: representa el número de fallas posibles en el equipo, el cual puede ser bajo, medio o alto. Las fallas latentes dependen del Historial de Anormalidad, las Condiciones de Uso y el resultado del Análisis de Fallas.\n",
    "-\t**Redundancia**: el equipo puede o no tener sistemas que soporten su funcionamiento durante posibles fallas. Esta variable es independiente de las demás y afecta directamente la Confiabilidad.\n",
    "-\t**Confiabilidad**: puede ser alta, media o baja, y depende de las últimas dos variables descritas. Esta es la variable objeto del análisis. \n",
    "\n",
    "Para los nodos iniciales las probabilidades de cada uno de sus estados se presentan a continuación:\n",
    "* **Historial de Anormalidad**: el estado **sin registro** tiene una probabilidad de 0.6, y **con registro** una probabilidad de 0.4.\n",
    "* **Condiciones de Uso**: el estado de **uso normal** tiene una probabilidad de 0.8, y de **sobreuso** una probabilidad de 0.2.\n",
    "* **Análisis de Fallas**: el estado **leve** tiene una probabilidad de 0.6, y **graves** una probabilidad de 0.4.\n",
    "* **Redundancia**: el estado *con* tiene una probabilidad de 0.7, y *sin* una probabilidad de 0.3.\n",
    "\n",
    "Probabilidades Condicionales\n",
    "Para el nodo **No. de Fallas Latentes**, las probabilidades condicionales se presentan en la siguiente tabla.\n",
    "\n",
    "\n",
    "Las probabilidades condicionales del nodo **Confiabilidad** dados sus nodos padres, se presentan a continuación.\n",
    "\n",
    "\n",
    "\n",
    "\n",
    "De acuerdo con la información suministrada:"
   ]
  },
  {
   "attachments": {},
   "cell_type": "markdown",
   "metadata": {},
   "source": [
    "1.\tResponda las siguientes preguntas:\n",
    "a.\t¿Tiene esta red estructuras en V? Si las tiene, ¿Qué implicaciones tienen en la influencia entre las variables de la red?\n",
    "\n",
    "b.\t¿Qué tipo de análisis considera es más relevante en este caso? ¿Causal, evidencial, intercausal? ¿Por qué?\n",
    "\n",
    "c.\t¿Qué independencias condicionales captura esta red?\n"
   ]
  },
  {
   "attachments": {},
   "cell_type": "markdown",
   "metadata": {},
   "source": [
    "2.\tConstruya gráficamente la Red Bayesiana que representa adecuadamente el problema."
   ]
  },
  {
   "attachments": {},
   "cell_type": "markdown",
   "metadata": {},
   "source": [
    "3.\tHalle la distribución de probabilidad de la variable nivel de Confiabilidad"
   ]
  },
  {
   "cell_type": "code",
   "execution_count": null,
   "metadata": {},
   "outputs": [],
   "source": [
    "#objetos BayesianNetwork y TabularCPD\n",
    "from pgmpy.models import BayesianNetwork\n",
    "from pgmpy.factors.discrete import TabularCPD"
   ]
  },
  {
   "cell_type": "code",
   "execution_count": null,
   "metadata": {},
   "outputs": [],
   "source": [
    "# Defina la estructura de la red\n",
    "modelo = BayesianNetwork([(\"H\", \"FL\"), (\"CU\", \"FL\"),(\"A\", \"FL\"),(\"R\", \"C\"),(\"FL\", \"C\")])"
   ]
  },
  {
   "cell_type": "code",
   "execution_count": null,
   "metadata": {},
   "outputs": [],
   "source": [
    "# Defina las CPDs:\n",
    "cpd_H = TabularCPD(variable=\"H\", variable_card=2, values=[[0.6], [0.4]])\n",
    "cpd_CU = TabularCPD(variable=\"CU\", variable_card=2, values=[[0.8], [0.2]])\n",
    "cpd_A = TabularCPD(variable=\"A\", variable_card=2, values=[[0.6], [0.4]])\n",
    "cpd_R = TabularCPD(variable=\"R\", variable_card=2, values=[[0.7], [0.3]])\n",
    "\n",
    "cpd_FL = TabularCPD(\n",
    "    variable=\"FL\",\n",
    "    variable_card=3,\n",
    "    values=[\n",
    "        [0.85, 0.8, 0.8, 0.7, 0.1, 0.05, 0.1, 0.02],\n",
    "        [0.10, 0.15, 0.15, 0.2, 0.3, 0.1, 0.4, 0.03],\n",
    "        [0.05, 0.05, 0.05, 0.1, 0.6, 0.85, 0.5, 0.95],\n",
    "    ],\n",
    "    evidence=[\"A\", \"CU\", \"H\"],\n",
    "    evidence_card=[2, 2, 2],\n",
    ")\n",
    "\n",
    "cpd_C = TabularCPD(\n",
    "    variable=\"C\",\n",
    "    variable_card=3,\n",
    "    values=[\n",
    "        [0.95, 0.75, 0.4, 0.2, 0.1, 0],\n",
    "        [0.05, 0.2, 0.3, 0.4, 0.3, 0.04],\n",
    "        [0, 0.05, 0.3, 0.4, 0.6, 0.96],\n",
    "    ],\n",
    "    evidence=[\"R\", \"FL\"],\n",
    "    evidence_card=[2, 3],\n",
    ")\n",
    "\n",
    "print(cpd_FL)\n",
    "print(cpd_C)"
   ]
  },
  {
   "cell_type": "code",
   "execution_count": null,
   "metadata": {},
   "outputs": [],
   "source": [
    "# Asocie las CPDs con la estructura de red\n",
    "modelo.add_cpds(cpd_H, cpd_CU, cpd_A, cpd_R, cpd_FL, cpd_C)"
   ]
  },
  {
   "cell_type": "code",
   "execution_count": null,
   "metadata": {},
   "outputs": [],
   "source": [
    "#Distribución de riesgo de variable Confiabilidad\n",
    "from pgmpy.inference import VariableElimination\n",
    "inferencia = VariableElimination(modelo)\n",
    "distribucion_C = inferencia.query(variables=['C'])\n",
    "print(distribucion_C)"
   ]
  },
  {
   "attachments": {},
   "cell_type": "markdown",
   "metadata": {},
   "source": [
    "4. Si el equipo tiene registro del historial de anomalías, se encuentra en condiciones de sobreuso, la valoración de los daños presentados por el equipo previamente es leve y no tiene sistemas que soporten su funcionamiento durante posibles fallas, ¿cómo se ve afectada la distribución de riesgo del nivel de Confiabilidad?\n"
   ]
  },
  {
   "cell_type": "code",
   "execution_count": null,
   "metadata": {},
   "outputs": [],
   "source": [
    "posterior_p = inferencia.query([\"C\"], evidence={\"H\": 1, \"A\": 1})\n",
    "print(posterior_p)"
   ]
  }
 ],
 "metadata": {
  "language_info": {
   "name": "python"
  },
  "orig_nbformat": 4
 },
 "nbformat": 4,
 "nbformat_minor": 2
}
